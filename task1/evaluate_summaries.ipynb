{
 "cells": [
  {
   "cell_type": "code",
   "execution_count": 1,
   "metadata": {},
   "outputs": [
    {
     "name": "stderr",
     "output_type": "stream",
     "text": [
      "/home/deborah/FS24/masterarbeit/State_of_the_art/.venv/lib/python3.10/site-packages/tqdm/auto.py:21: TqdmWarning: IProgress not found. Please update jupyter and ipywidgets. See https://ipywidgets.readthedocs.io/en/stable/user_install.html\n",
      "  from .autonotebook import tqdm as notebook_tqdm\n"
     ]
    }
   ],
   "source": [
    "from data import load_papers \n",
    "import numpy as np\n",
    "from bert_score import BERTScorer\n",
    "from rouge_score import rouge_scorer\n",
    "from langchain_community.llms import Ollama\n",
    "import re\n",
    "separator = \"\\n---SEPARATOR---\\n\""
   ]
  },
  {
   "cell_type": "markdown",
   "metadata": {},
   "source": [
    "# Evaluate summaries"
   ]
  },
  {
   "cell_type": "code",
   "execution_count": 2,
   "metadata": {},
   "outputs": [],
   "source": [
    "abstracts, texts = load_papers(split='test.txt')"
   ]
  },
  {
   "cell_type": "code",
   "execution_count": 3,
   "metadata": {},
   "outputs": [],
   "source": [
    "def get_summaries(filename):\n",
    "    with open(f'summaries/'+filename, 'r') as file:\n",
    "            summaries = file.read()\n",
    "    summaries_list = []\n",
    "    for i in summaries.split(separator):\n",
    "        summaries_list.append(i)\n",
    "    return summaries_list"
   ]
  },
  {
   "cell_type": "code",
   "execution_count": 4,
   "metadata": {},
   "outputs": [],
   "source": [
    "#Load the summaries created in create_summaries.ipynb\n",
    "#Choices of filenames are following for the simple or the complex prompt and 10 or 100 summaries.\n",
    "#filename =\"write_summary_complex.txt\"\n",
    "#filename = \"write_summary_complex100.txt\"\n",
    "#filename = \"write_summary100.txt\"\n",
    "filename =\"write_summary.txt\"\n",
    "summaries_list = get_summaries(filename)"
   ]
  },
  {
   "cell_type": "markdown",
   "metadata": {},
   "source": [
    "### Bert scores"
   ]
  },
  {
   "cell_type": "code",
   "execution_count": 13,
   "metadata": {},
   "outputs": [
    {
     "name": "stdout",
     "output_type": "stream",
     "text": [
      "BERTScore Precision: 0.9258, Recall: 0.9258, F1: 0.9258\n"
     ]
    }
   ],
   "source": [
    "# Example texts\n",
    "reference = \"This is a reference text example.\"\n",
    "candidate = \"This is a candidate text example.\"\n",
    "# BERTScore calculation\n",
    "scorer_bert = BERTScorer(model_type='bert-base-uncased')\n",
    "P, R, F1 = scorer_bert.score([candidate], [reference])\n",
    "print(f\"BERTScore Precision: {P.mean():.4f}, Recall: {R.mean():.4f}, F1: {F1.mean():.4f}\")\n",
    "\n",
    "### Outputs : BERTScore Precision: 0.9258, Recall: 0.9258, F1: 0.9258"
   ]
  },
  {
   "cell_type": "code",
   "execution_count": 14,
   "metadata": {},
   "outputs": [
    {
     "name": "stdout",
     "output_type": "stream",
     "text": [
      "[[0.6683     0.6563     0.6623    ]\n",
      " [0.3343     0.4942     0.3988    ]\n",
      " [0.5656     0.6809     0.6179    ]\n",
      " [0.514      0.6899     0.5891    ]\n",
      " [0.5851     0.5932     0.5891    ]\n",
      " [0.6047     0.5865     0.5955    ]\n",
      " [0.5986     0.6254     0.6117    ]\n",
      " [0.442      0.5364     0.4846    ]\n",
      " [0.5406     0.5164     0.5282    ]\n",
      " [0.5442     0.7356     0.6256    ]\n",
      " [0.53974    0.61148    0.57028   ]\n",
      " [0.08909552 0.07613618 0.07441295]]\n"
     ]
    }
   ],
   "source": [
    "#Get all bert scores\n",
    "def get_bert(candidate, reference,filename):\n",
    "    scores = []\n",
    "    if len(candidate)<100:\n",
    "        num = len(candidate)\n",
    "    else:\n",
    "        num = 100\n",
    "    for i in range(num):\n",
    "        P, R, F1 = scorer_bert.score([candidate[i]], [reference[i]])\n",
    "        scores.append([round(float(P[0]),4),round(float(R[0]),4),round(float(F1[0]),4)])\n",
    "    m = np.mean(scores,axis=0)\n",
    "    s = np.std(scores,axis=0)\n",
    "    scores.append(m)\n",
    "    scores.append(s)   \n",
    "    np.savetxt('results/'+filename+'_bert.txt',np.matrix(scores),fmt='%.4f')\n",
    "    return np.matrix(scores)\n",
    "scores = get_bert(summaries_list,abstracts,filename)\n",
    "print(scores)\n",
    "    "
   ]
  },
  {
   "cell_type": "code",
   "execution_count": 15,
   "metadata": {},
   "outputs": [
    {
     "name": "stdout",
     "output_type": "stream",
     "text": [
      "[[0.6494     0.5555     0.5988    ]\n",
      " [0.4338     0.4683     0.4504    ]\n",
      " [0.6656     0.6145     0.639     ]\n",
      " [0.6019     0.6115     0.6066    ]\n",
      " [0.6415     0.6309     0.6362    ]\n",
      " [0.6254     0.5556     0.5885    ]\n",
      " [0.6115     0.5923     0.6017    ]\n",
      " [0.504      0.4649     0.4837    ]\n",
      " [0.5786     0.4993     0.536     ]\n",
      " [0.6253     0.6571     0.6408    ]\n",
      " [0.5937     0.56499    0.57817   ]\n",
      " [0.06840072 0.06484521 0.0631764 ]]\n"
     ]
    }
   ],
   "source": [
    "scores2 = get_bert(summaries_list,texts,filename+'compare_to_text')\n",
    "print(scores2)"
   ]
  },
  {
   "cell_type": "code",
   "execution_count": 19,
   "metadata": {},
   "outputs": [
    {
     "name": "stdout",
     "output_type": "stream",
     "text": [
      "[[0.7037     0.6132     0.6553    ]\n",
      " [0.7381     0.5363     0.6212    ]\n",
      " [0.7686     0.5992     0.6734    ]\n",
      " [0.6994     0.5158     0.5937    ]\n",
      " [0.5539     0.5665     0.5601    ]\n",
      " [0.6456     0.6099     0.6272    ]\n",
      " [0.6763     0.6022     0.6371    ]\n",
      " [0.6565     0.5413     0.5934    ]\n",
      " [0.7078     0.6556     0.6807    ]\n",
      " [0.7343     0.5645     0.6383    ]\n",
      " [0.6469     0.542      0.5899    ]\n",
      " [0.6396     0.5855     0.6113    ]\n",
      " [0.6478     0.5826     0.6135    ]\n",
      " [0.7837     0.6727     0.724     ]\n",
      " [0.5982     0.5237     0.5585    ]\n",
      " [0.6659     0.5695     0.614     ]\n",
      " [0.7474     0.6165     0.6757    ]\n",
      " [0.5989     0.4867     0.537     ]\n",
      " [0.6257     0.6088     0.6171    ]\n",
      " [0.5646     0.4808     0.5194    ]\n",
      " [0.5387     0.535      0.5368    ]\n",
      " [0.6935     0.5223     0.5958    ]\n",
      " [0.6102     0.5893     0.5996    ]\n",
      " [0.5654     0.4939     0.5272    ]\n",
      " [0.6054     0.5783     0.5915    ]\n",
      " [0.6193     0.5101     0.5594    ]\n",
      " [0.6605     0.5901     0.6233    ]\n",
      " [0.6811     0.587      0.6305    ]\n",
      " [0.6634     0.597      0.6284    ]\n",
      " [0.6771     0.5966     0.6343    ]\n",
      " [0.6343     0.5478     0.5879    ]\n",
      " [0.5312     0.5677     0.5488    ]\n",
      " [0.6162     0.6166     0.6164    ]\n",
      " [0.7079     0.5092     0.5923    ]\n",
      " [0.6741     0.5792     0.6231    ]\n",
      " [0.7148     0.6049     0.6553    ]\n",
      " [0.6704     0.4835     0.5618    ]\n",
      " [0.7416     0.5932     0.6592    ]\n",
      " [0.6897     0.5984     0.6408    ]\n",
      " [0.656      0.5965     0.6248    ]\n",
      " [0.7289     0.5747     0.6427    ]\n",
      " [0.6301     0.5895     0.6091    ]\n",
      " [0.6845     0.5037     0.5804    ]\n",
      " [0.7001     0.5955     0.6436    ]\n",
      " [0.6631     0.6        0.63      ]\n",
      " [0.6572     0.5952     0.6247    ]\n",
      " [0.7264     0.6019     0.6583    ]\n",
      " [0.6311     0.5826     0.6059    ]\n",
      " [0.6576     0.5223     0.5822    ]\n",
      " [0.6321     0.491      0.5527    ]\n",
      " [0.6579     0.5747     0.6135    ]\n",
      " [0.6615     0.5551     0.6036    ]\n",
      " [0.642      0.6027     0.6217    ]\n",
      " [0.6378     0.5809     0.608     ]\n",
      " [0.6343     0.5166     0.5695    ]\n",
      " [0.6334     0.4646     0.536     ]\n",
      " [0.7103     0.6081     0.6553    ]\n",
      " [0.6549     0.6044     0.6286    ]\n",
      " [0.6319     0.546      0.5858    ]\n",
      " [0.6291     0.5778     0.6024    ]\n",
      " [0.7074     0.5761     0.635     ]\n",
      " [0.6668     0.5961     0.6294    ]\n",
      " [0.6523     0.6685     0.6603    ]\n",
      " [0.6591     0.5845     0.6196    ]\n",
      " [0.6403     0.5643     0.5999    ]\n",
      " [0.5062     0.4668     0.4857    ]\n",
      " [0.611      0.5229     0.5635    ]\n",
      " [0.6632     0.5117     0.5777    ]\n",
      " [0.6347     0.5919     0.6126    ]\n",
      " [0.6581     0.5037     0.5707    ]\n",
      " [0.7585     0.5934     0.6659    ]\n",
      " [0.6425     0.5618     0.5995    ]\n",
      " [0.6899     0.532      0.6007    ]\n",
      " [0.5875     0.4255     0.4935    ]\n",
      " [0.6357     0.5963     0.6153    ]\n",
      " [0.6405     0.5183     0.5729    ]\n",
      " [0.6426     0.6305     0.6365    ]\n",
      " [0.6334     0.5665     0.5981    ]\n",
      " [0.6306     0.4886     0.5506    ]\n",
      " [0.6921     0.6418     0.666     ]\n",
      " [0.5808     0.5244     0.5512    ]\n",
      " [0.6402     0.5832     0.6104    ]\n",
      " [0.671      0.5376     0.5969    ]\n",
      " [0.6761     0.5943     0.6326    ]\n",
      " [0.6425     0.5805     0.6099    ]\n",
      " [0.7033     0.4857     0.5746    ]\n",
      " [0.6395     0.5528     0.593     ]\n",
      " [0.6695     0.5172     0.5836    ]\n",
      " [0.6307     0.563      0.5949    ]\n",
      " [0.5442     0.5462     0.5452    ]\n",
      " [0.7282     0.6415     0.6821    ]\n",
      " [0.609      0.5882     0.5984    ]\n",
      " [0.6056     0.544      0.5732    ]\n",
      " [0.6406     0.5764     0.6068    ]\n",
      " [0.6616     0.5196     0.5821    ]\n",
      " [0.6679     0.5274     0.5894    ]\n",
      " [0.7213     0.6448     0.6809    ]\n",
      " [0.6614     0.551      0.6012    ]\n",
      " [0.6898     0.6271     0.657     ]\n",
      " [0.6872     0.6178     0.6506    ]\n",
      " [0.655807   0.565211   0.605994  ]\n",
      " [0.05055557 0.04755397 0.04194902]]\n"
     ]
    }
   ],
   "source": [
    "\n",
    "scores3 = get_bert(abstracts,texts,filename+'test_original')\n",
    "print(scores3)"
   ]
  },
  {
   "cell_type": "markdown",
   "metadata": {},
   "source": [
    "### Bert Miniexmples"
   ]
  },
  {
   "cell_type": "code",
   "execution_count": 9,
   "metadata": {},
   "outputs": [
    {
     "name": "stdout",
     "output_type": "stream",
     "text": [
      "BERTScore Precision: 0.9258, Recall: 0.9258, F1: 0.9258\n"
     ]
    }
   ],
   "source": [
    "#Example how bert score works\n",
    "\n",
    "# Example texts\n",
    "reference = \"This is a reference text example.\"\n",
    "candidate = \"This is a candidate text example.\"\n",
    "# BERTScore calculation\n",
    "scorer = BERTScorer(model_type='bert-base-uncased')\n",
    "P, R, F1 = scorer.score([candidate], [reference])\n",
    "print(f\"BERTScore Precision: {P.mean():.4f}, Recall: {R.mean():.4f}, F1: {F1.mean():.4f}\")\n",
    "\n",
    "### Outputs : BERTScore Precision: 0.9258, Recall: 0.9258, F1: 0.9258"
   ]
  },
  {
   "cell_type": "code",
   "execution_count": null,
   "metadata": {},
   "outputs": [],
   "source": [
    "#How tight are the summaries to the abstract? Which summary is the best score for the first abstract?\n",
    "for i in range(10):\n",
    "    P, R, F1 = scorer.score([summaries_list[i]], [abstracts[0]])\n",
    "    print(f\"BERTScore Precision: {P[0]:.4f}, Recall: {R[0]:.4f}, F1: {F1[0]:.4f}\")\n",
    "#Yes the other summaries are less similar than the one dedicated to the text."
   ]
  },
  {
   "cell_type": "code",
   "execution_count": null,
   "metadata": {},
   "outputs": [],
   "source": [
    "#Remove last sentence\n",
    "similar_summary = \"\"\"the short - term periodicities of the daily sunspot area fluctuations from august 1923 to october 1933 are discussed . for these data \n",
    " the correlative analysis indicates negative correlation for the periodicity of about @xmath0 days , but the power spectrum analysis indicates a statistically significant peak in this time interval . \n",
    " a new method of the diagnosis of an echo - effect in spectrum is proposed and it is stated that the 155-day periodicity is a harmonic of the periodicities from the interval of @xmath1 $ ] days .    the autocorrelation functions for the daily sunspot area fluctuations and for the fluctuations of the one rotation time interval in the northern hemisphere , separately for the whole solar cycle 16 and for the maximum activity period of this cycle do not show differences , especially in the interval of @xmath2 $ ] days . \n",
    " it proves against the thesis of the existence of strong positive fluctuations of the about @xmath0-day interval in the maximum activity period of the solar cycle 16 in the northern hemisphere . \n",
    "\"\"\"\n",
    "P, R, F1 = scorer.score([similar_summary], [abstracts[0]])\n",
    "print(f\"BERTScore Precision: {P[0]:.4f}, Recall: {R[0]:.4f}, F1: {F1[0]:.4f}\")"
   ]
  },
  {
   "cell_type": "code",
   "execution_count": null,
   "metadata": {},
   "outputs": [],
   "source": [
    "# No summary\n",
    "similar_summary = \"\"\"This is about.\"\"\"\n",
    "P, R, F1 = scorer.score([similar_summary], [abstracts[0]])\n",
    "print(f\"BERTScore Precision: {P[0]:.4f}, Recall: {R[0]:.4f}, F1: {F1[0]:.4f}\")"
   ]
  },
  {
   "cell_type": "code",
   "execution_count": null,
   "metadata": {},
   "outputs": [],
   "source": [
    "\"\"\" Replace synonyms:\n",
    "short - term -> short-duration \n",
    "discussed -> examined\n",
    "diagnosis -> evaluation\n",
    "proves against -> disproves\n",
    "\"\"\"\n",
    "similar_summary = \"\"\" the short-duration periodicities of the daily sunspot area fluctuations from august 1923 to october 1933 are examined. for these data \n",
    " the correlative analysis indicates negative correlation for the periodicity of about @xmath0 days , but the power spectrum analysis indicates a statistically significant peak in this time interval . \n",
    " a new method of the evaluation of an echo - effect in spectrum is proposed and it is stated that the 155-day periodicity is a harmonic of the periodicities from the interval of @xmath1 $ ] days .    the autocorrelation functions for the daily sunspot area fluctuations and for the fluctuations of the one rotation time interval in the northern hemisphere , separately for the whole solar cycle 16 and for the maximum activity period of this cycle do not show differences , especially in the interval of @xmath2 $ ] days . \n",
    " it disproves the thesis of the existence of strong positive fluctuations of the about @xmath0-day interval in the maximum activity period of the solar cycle 16 in the northern hemisphere . \n",
    " however , a similar analysis for data from the southern hemisphere indicates that there is the periodicity of about @xmath0 days in sunspot area data in the maximum activity period of the cycle 16 only . \n",
    "\"\"\"\n",
    "P, R, F1 = scorer.score([similar_summary], [abstracts[0]])\n",
    "print(f\"BERTScore Precision: {P[0]:.4f}, Recall: {R[0]:.4f}, F1: {F1[0]:.4f}\")\n",
    "#Very good. With replacing 4 synonms still a good score.\n",
    "\n",
    "#only remove these words\n",
    "similar_summary = \"\"\" the short periodicities of the daily sunspot area fluctuations from august 1923 to october 1933 are. for these data \n",
    " the correlative analysis indicates negative correlation for the periodicity of about @xmath0 days , but the power spectrum analysis indicates a statistically significant peak in this time interval . \n",
    " a new method of the of an echo - effect in spectrum is proposed and it is stated that the 155-day periodicity is a harmonic of the periodicities from the interval of @xmath1 $ ] days .    the autocorrelation functions for the daily sunspot area fluctuations and for the fluctuations of the one rotation time interval in the northern hemisphere , separately for the whole solar cycle 16 and for the maximum activity period of this cycle do not show differences , especially in the interval of @xmath2 $ ] days . \n",
    " it the thesis of the existence of strong positive fluctuations of the about @xmath0-day interval in the maximum activity period of the solar cycle 16 in the northern hemisphere . \n",
    " however , a similar analysis for data from the southern hemisphere indicates that there is the periodicity of about @xmath0 days in sunspot area data in the maximum activity period of the cycle 16 only . \n",
    "\"\"\"\n",
    "P, R, F1 = scorer.score([similar_summary], [abstracts[0]])\n",
    "print(f\"BERTScore Precision: {P[0]:.4f}, Recall: {R[0]:.4f}, F1: {F1[0]:.4f}\")\n",
    "#There the score gots worse."
   ]
  },
  {
   "cell_type": "markdown",
   "metadata": {},
   "source": [
    "### Rouge score"
   ]
  },
  {
   "cell_type": "code",
   "execution_count": 17,
   "metadata": {},
   "outputs": [
    {
     "name": "stdout",
     "output_type": "stream",
     "text": [
      "[[0.2513  0.2809  0.2653 ]\n",
      " [0.1538  0.0511  0.0767 ]\n",
      " [0.2927  0.1101  0.16   ]\n",
      " [0.3919  0.0714  0.1208 ]\n",
      " [0.2727  0.1449  0.1893 ]\n",
      " [0.2335  0.1902  0.2097 ]\n",
      " [0.2244  0.1062  0.1442 ]\n",
      " [0.1667  0.1102  0.1327 ]\n",
      " [0.2241  0.1696  0.1931 ]\n",
      " [0.5652  0.1034  0.1749 ]\n",
      " [0.27763 0.1338  0.16667]]\n"
     ]
    }
   ],
   "source": [
    "#Get all F1 bert scores\n",
    "scorer_rouge = rouge_scorer.RougeScorer(['rougeL'], use_stemmer=True)\n",
    "def get_rouge(candidate,reference,filename):\n",
    "    scores = []\n",
    "    for i in range(10):\n",
    "        P, R, F1 = scorer_rouge.score(candidate[i], reference[i])['rougeL']\n",
    "        scores.append([round(float(P),4),round(float(R),4),round(float(F1),4)])\n",
    "\n",
    "    scores.append(np.mean(scores,axis=0))\n",
    "    \n",
    "    np.savetxt('results/'+filename+'_rouge.txt',scores,fmt='%.4f')\n",
    "    return np.matrix(scores)\n",
    "scores = get_rouge(summaries_list,abstracts,filename)\n",
    "print(scores)"
   ]
  },
  {
   "cell_type": "markdown",
   "metadata": {},
   "source": [
    "### Rouge miniexamples"
   ]
  },
  {
   "cell_type": "code",
   "execution_count": 18,
   "metadata": {},
   "outputs": [
    {
     "name": "stdout",
     "output_type": "stream",
     "text": [
      "RougeScore Precision: 0.8291, Recall: 1.0000, F1: 0.9066\n"
     ]
    }
   ],
   "source": [
    "#\n",
    "#Remove last sentence\n",
    "similar_summary = \"\"\"the short - term periodicities of the daily sunspot area fluctuations from august 1923 to october 1933 are discussed . for these data \n",
    " the correlative analysis indicates negative correlation for the periodicity of about @xmath0 days , but the power spectrum analysis indicates a statistically significant peak in this time interval . \n",
    " a new method of the diagnosis of an echo - effect in spectrum is proposed and it is stated that the 155-day periodicity is a harmonic of the periodicities from the interval of @xmath1 $ ] days .    the autocorrelation functions for the daily sunspot area fluctuations and for the fluctuations of the one rotation time interval in the northern hemisphere , separately for the whole solar cycle 16 and for the maximum activity period of this cycle do not show differences , especially in the interval of @xmath2 $ ] days . \n",
    " it proves against the thesis of the existence of strong positive fluctuations of the about @xmath0-day interval in the maximum activity period of the solar cycle 16 in the northern hemisphere . \n",
    "\"\"\"\n",
    "P, R, F1 = scorer_rouge.score(similar_summary, abstracts[0])['rougeL']\n",
    "print(f\"RougeScore Precision: {P:.4f}, Recall: {R:.4f}, F1: {F1:.4f}\")"
   ]
  },
  {
   "cell_type": "code",
   "execution_count": 19,
   "metadata": {},
   "outputs": [
    {
     "name": "stdout",
     "output_type": "stream",
     "text": [
      "RougeScore Precision: 0.0151, Recall: 1.0000, F1: 0.0297\n"
     ]
    }
   ],
   "source": [
    "# No summary\n",
    "similar_summary = \"\"\"This is about.\"\"\"\n",
    "P, R, F1 = scorer_rouge.score(similar_summary, abstracts[0])['rougeL']\n",
    "print(f\"RougeScore Precision: {P:.4f}, Recall: {R:.4f}, F1: {F1:.4f}\")\n",
    "#Good, this is not a summary, good that the f1 value is very low. recall is 1 because all words of similar_summary are in abstract[0]."
   ]
  },
  {
   "cell_type": "code",
   "execution_count": 20,
   "metadata": {},
   "outputs": [
    {
     "name": "stdout",
     "output_type": "stream",
     "text": [
      "RougeScore Precision: 0.9749, Recall: 0.9798, F1: 0.9773\n",
      "RougeScore Precision: 0.9749, Recall: 1.0000, F1: 0.9873\n"
     ]
    }
   ],
   "source": [
    "\"\"\" Replace synonyms:\n",
    "short - term -> short-duration \n",
    "discussed -> examined\n",
    "diagnosis -> evaluation\n",
    "proves against -> disproves\n",
    "\"\"\"\n",
    "similar_summary = \"\"\" the short-duration periodicities of the daily sunspot area fluctuations from august 1923 to october 1933 are examined. for these data \n",
    " the correlative analysis indicates negative correlation for the periodicity of about @xmath0 days , but the power spectrum analysis indicates a statistically significant peak in this time interval . \n",
    " a new method of the evaluation of an echo - effect in spectrum is proposed and it is stated that the 155-day periodicity is a harmonic of the periodicities from the interval of @xmath1 $ ] days .    the autocorrelation functions for the daily sunspot area fluctuations and for the fluctuations of the one rotation time interval in the northern hemisphere , separately for the whole solar cycle 16 and for the maximum activity period of this cycle do not show differences , especially in the interval of @xmath2 $ ] days . \n",
    " it disproves the thesis of the existence of strong positive fluctuations of the about @xmath0-day interval in the maximum activity period of the solar cycle 16 in the northern hemisphere . \n",
    " however , a similar analysis for data from the southern hemisphere indicates that there is the periodicity of about @xmath0 days in sunspot area data in the maximum activity period of the cycle 16 only . \n",
    "\"\"\"\n",
    "P, R, F1 = scorer_rouge.score(similar_summary, abstracts[0])['rougeL']\n",
    "print(f\"RougeScore Precision: {P:.4f}, Recall: {R:.4f}, F1: {F1:.4f}\")\n",
    "#With replacing 4 synonms a bit smaller precision and recall\n",
    "\n",
    "#only remove these words\n",
    "similar_summary = \"\"\" the short periodicities of the daily sunspot area fluctuations from august 1923 to october 1933 are. for these data \n",
    " the correlative analysis indicates negative correlation for the periodicity of about @xmath0 days , but the power spectrum analysis indicates a statistically significant peak in this time interval . \n",
    " a new method of the of an echo - effect in spectrum is proposed and it is stated that the 155-day periodicity is a harmonic of the periodicities from the interval of @xmath1 $ ] days .    the autocorrelation functions for the daily sunspot area fluctuations and for the fluctuations of the one rotation time interval in the northern hemisphere , separately for the whole solar cycle 16 and for the maximum activity period of this cycle do not show differences , especially in the interval of @xmath2 $ ] days . \n",
    " it the thesis of the existence of strong positive fluctuations of the about @xmath0-day interval in the maximum activity period of the solar cycle 16 in the northern hemisphere . \n",
    " however , a similar analysis for data from the southern hemisphere indicates that there is the periodicity of about @xmath0 days in sunspot area data in the maximum activity period of the cycle 16 only . \n",
    "\"\"\"\n",
    "P, R, F1 = scorer_rouge.score(similar_summary, abstracts[0])['rougeL']\n",
    "print(f\"RougeScore Precision: {P:.4f}, Recall: {R:.4f}, F1: {F1:.4f}\")\n",
    "#Very bad. Even tough the summary is worse the score is higher. This is because the recall is better. \n",
    "#The recall is 1 because all of the words of similar summary are in the abstract[0].\n",
    "#The precision is both the same because the number of correct words is the same.\n"
   ]
  },
  {
   "cell_type": "markdown",
   "metadata": {},
   "source": [
    "### Compare the summaries from the 2 prompts"
   ]
  },
  {
   "cell_type": "code",
   "execution_count": 4,
   "metadata": {},
   "outputs": [],
   "source": [
    "filename =\"write_summary.txt\"\n",
    "with open(f'task1/results/'+filename, 'r') as file:\n",
    "        summaries = file.read()\n",
    "s1 = []\n",
    "for i in summaries.split(separator):\n",
    "    s1.append(i)"
   ]
  },
  {
   "cell_type": "code",
   "execution_count": 5,
   "metadata": {},
   "outputs": [],
   "source": [
    "filename =\"write_summary_complex.txt\"\n",
    "with open(f'task1/results/'+filename, 'r') as file:\n",
    "        summaries = file.read()\n",
    "s2 = []\n",
    "for i in summaries.split(separator):\n",
    "    s2.append(i)"
   ]
  },
  {
   "cell_type": "code",
   "execution_count": 10,
   "metadata": {},
   "outputs": [
    {
     "name": "stdout",
     "output_type": "stream",
     "text": [
      " The text appears to be discussing the results of an analysis of sunspot data, specifically looking for periodicities in sunspot area fluctuations during the maximum activity period of solar cycle 16. The authors used wavelet analysis and autocorrelation functions to investigate the existence of a periodicity around 155 days. They found that the dispersion of points related to this periodicity was large, making it difficult to confirm its existence. They also compared the autocorrelation functions and periodograms of sunspot area fluctuations from each solar hemisphere separately during the maximum activity period. The results suggested that there might be a statistically significant positive peak in the interval of 155-165 days for the southern hemisphere, but the resolution of the periodogram was not sufficient to make a definitive conclusion. The authors also noted that power spectrum analysis alone may not be sufficient to detect true periodicities and suggested using both correlative and power spectrum analyses together. Overall, the text indicates that further research is needed to confirm the existence and significance of the 155-day periodicity in sunspot data.\n",
      " The text appears to be discussing the results of an analysis of sunspot data, specifically looking for periodicities in sunspot area fluctuations during the maximum activity period of solar cycle 16. The authors found that the existence of a periodicity around 0 days (approximately 6 solar rotations) is questionable based on their analysis of the time series and comparison with autocorrelation functions. They also noted that power spectrum analysis alone may not be sufficient to identify true periodicities, as it can be affected by aliases and subharmonics. The authors suggest that a combination of correlative and power spectrum analyses may be more effective in detecting statistically significant peaks in the periodograms.  The text also mentions that there are differences between the northern and southern hemispheres in terms of sunspot activity and periodicities, which is why separate analyses were conducted for each hemisphere. The authors found that while there was a statistically significant positive peak in the autocorrelation function and periodogram for daily sunspot area fluctuations from the southern hemisphere during the maximum activity period, it was not clear whether this represented a real periodicity or an alias.  Overall, the text suggests that further research is needed to confirm the existence of any specific periodicities in sunspot data, and that a combination of different analysis methods may be more effective than relying on any one method alone. The authors also emphasize the importance of considering the context and specific characteristics of the data being analyzed.\n",
      " the short - term periodicities of the daily sunspot area fluctuations from august 1923 to october 1933 are discussed . for these data \n",
      " the correlative analysis indicates negative correlation for the periodicity of about @xmath0 days , but the power spectrum analysis indicates a statistically significant peak in this time interval . \n",
      " a new method of the diagnosis of an echo - effect in spectrum is proposed and it is stated that the 155-day periodicity is a harmonic of the periodicities from the interval of @xmath1 $ ] days .    the autocorrelation functions for the daily sunspot area fluctuations and for the fluctuations of the one rotation time interval in the northern hemisphere , separately for the whole solar cycle 16 and for the maximum activity period of this cycle do not show differences , especially in the interval of @xmath2 $ ] days . \n",
      " it proves against the thesis of the existence of strong positive fluctuations of the about @xmath0-day interval in the maximum activity period of the solar cycle 16 in the northern hemisphere . \n",
      " however , a similar analysis for data from the southern hemisphere indicates that there is the periodicity of about @xmath0 days in sunspot area data in the maximum activity period of the cycle 16 only . \n"
     ]
    }
   ],
   "source": [
    "print(s1[0])\n",
    "print(s2[0])\n",
    "print(abstracts[0])\n",
    "#second is longer and does include more information about the findings and conclusion. First only decribed the methods used."
   ]
  },
  {
   "cell_type": "code",
   "execution_count": 12,
   "metadata": {},
   "outputs": [
    {
     "name": "stdout",
     "output_type": "stream",
     "text": [
      " It appears that you have provided a list of references related to gravitational physics and astrophysics, specifically those dealing with topics such as black holes, gravitational waves, and cosmology. Here is the information extracted from the given references:  1. Jackiw and Pi (2003) - Phys. Rev. D **68**, 104012 (gr-qc/0308071) 2. Satoh, Kanno, and Soda (2008) - Phys. Rev. D **77**, 023526 (astro-ph/07063585) 3. Contaldi, Magueijo, and Smolin (2008) - Phys. Rev. Lett. **101**, 141101 (astro-ph/08063082) 4. Takahashi and Soda (2009) - Phys. Rev. Lett. **102**, 231301 (hep-th/09040554) 5. Cook and Sorbo (2012) - Phys. Rev. D **85**, 023534; **86**, 069901 6. Obata, Miura, and Soda (2015) - Phys. Rev. D **92**, 063516 (astro-ph/14127620) 7. Lightman et al. (1979) - Problem Book in Relativity and Gravitation, Princeton University Press 8. Maggiore (2008) - Gravitational Waves: Theory and Experiments, Oxford University Press 9. Rybicki and Lightman (1979) - Radiative Processes in Astrophysics, Wiley-Interscience 10. Landau and Lifshitz (1975) - The Classical Theory, Pergamon Press 11. Misner et al. (1973) - Gravitation, Freeman 12. Lightman et al. (1997) - Phys. Rev. D **56**, 545 (gr-qc/9607068) 13. Seljak and Zaldarriaga (1997) - Phys. Rev. Lett. **78**, 2054 (astro-ph/9609169) 14. Goldberg et al. (1967) - Journal of Mathematical Physics **8**, 2155 15. Anholm et al. (2009) - Phys. Rev. D **79**, 084030 (gr-qc/08090701) 16. Book and Flanagan (2011) - Phys. Rev. D **83**, 024024 (astro-ph/10094192) 17. Jenet and Romano (2015) - Am. J. Phys. **83**, 635 (gr-qc/14121142) 18. Hellings and Downs (1983) - Astrophys. J. **265**, L39  These references cover various aspects of gravitational physics and astrophysics, including theoretical models, observational studies, and experimental results.\n",
      " It appears that you have provided a list of research papers and related resources in the field of physics, specifically in areas such as gravitation, quantum mechanics, astrophysics, and general relativity. Each entry includes the authors' names, journal titles, publication years, DOI numbers, and arXiv preprint IDs (where available). Some entries also include book titles and their respective publishers.  Here are a few notable papers from the list:  1. Jackiw and Pi (2003) - \"Gravitational Waves from Colliding Cosmic Strings\" (Physical Review D, arXiv:hep-th/0308071) 2. Takahashi and Soda (2009) - \"Probing the Quark Gluon Plasma with Gravitational Waves from Heavy Ion Collisions\" (Physical Review Letters, arXiv:gr-qc/0904.0554) 3. Contaldi, Magueijo, and Smolin (2008) - \"Quantum Gravity and the Cosmic Microwave Background\" (Physical Review Letters, arXiv:astro-ph/0806.3082) 4. Lightman et al. (1979) - \"Problem Book in Relativity and Gravitation\" (Princeton University Press) 5. Maggiore (2008) - \"Gravitational Waves: Theory and Experiments\" (Oxford University Press) 6. Seljak and Zaldarriaga (1997) - \"Cosmic Microwave Background Anisotropies from Inflation\" (Physical Review Letters, arXiv:astro-ph/9609169)  These papers cover a range of topics in theoretical physics and astrophysics, including gravitational waves, cosmic strings, the cosmic microwave background, and problem books for learning about relativity and gravitation. The list also includes several influential textbooks and resources used in the field.\n",
      " we study the detectability of circular polarization in a stochastic gravitational wave background from various sources such as supermassive black hole binaries , cosmic strings , and inflation in the early universe with pulsar timing arrays . \n",
      " we calculate generalized overlap reduction functions for the circularly polarized stochastic gravitational wave background . \n",
      " we find that the circular polarization can not be detected for an isotropic background . however , there is a chance to observe the circular polarization for an anisotropic gravitational wave background . \n",
      " we also show how to separate polarized gravitational waves from unpolarized gravitational waves . \n"
     ]
    }
   ],
   "source": [
    "print(s1[1])\n",
    "print(s2[1])\n",
    "print(abstracts[1])\n",
    "#Both times the paper was interpreted as a list of papers. There was no summary."
   ]
  },
  {
   "cell_type": "code",
   "execution_count": 15,
   "metadata": {},
   "outputs": [
    {
     "name": "stdout",
     "output_type": "stream",
     "text": [
      " This text appears to be a scientific research paper on the topic of nuclear physics, specifically focusing on the calculation of decay half-lives for alpha decays in atomic nuclei and the penetration of potential barriers. The authors have developed a new analytical formula based on the Wentzel-Kramers-Brillouin (WKB) approximation to calculate the barrier penetrability, taking into account the influence of the long-range Coulomb tail in the barrier potential.  The text includes a comparison of the results obtained using different approaches, including the parabolic approximation and the WKB approach, for various isotopes of Po (polonium). The authors have assumed the barrier potential to be spherical for most cases, and they have shown that their new formula gives very good results for these spherical nuclei.  The text also discusses the importance of evaluating the integral in the equation for the penetrability and provides an analytical expression for it. The computation was supported by the National Natural Science Foundation, the Major State Basic Research Development Program of China, the Knowledge Innovation Project of CAS, and Deutsche Forschungsgemeinschaft.  Overall, the text presents a new analytical formula for calculating barrier penetrability in nuclear physics, which could be useful for studying barrier penetrability where one has to introduce an energy-dependent one-dimensional potential barrier or a barrier distribution function.\n",
      "-\n",
      " This text appears to be discussing the calculation of decay half-lives for nuclear reactions, specifically for alpha decays in various isotopes. The authors compare the results obtained using different approaches: the Wentzel-Kramers-Brillouin (WKB) approach, the parabolic approximation, and a new formula derived in this work.  The text also mentions that the barrier potential is assumed to be spherical for most of the calculations, but this assumption may not hold for all nuclei. The authors find good agreement between their calculated results and experimental data for spherical nuclei, with small deviations. They attribute the success of the new formula to its proper treatment of the long-range Coulomb tail in the barrier potential.  The text also mentions that the calculation was supported by various grants and computational resources. The derivation of the analytical expression for the integral in eq. (\n",
      "ef{x1x2}) is provided, with some approximations made to simplify the evaluation.\n",
      "--\n",
      " starting from the wkb approximation , a new barrier penetration formula is proposed for potential barriers containing a long - range coulomb interaction . \n",
      " this formula is especially proper for the barrier penetration with penetration energy much lower than the coulomb barrier . \n",
      " the penetrabilities calculated from the new formula agree well with the results from the wkb method . as a first attempt , \n",
      " this new formula is used to evaluate @xmath0 decay half - lives of atomic nuclei and a good agreement with the experiment is obtained . \n"
     ]
    }
   ],
   "source": [
    "print(s1[2])\n",
    "print(\"-\")\n",
    "print(s2[2])\n",
    "print(\"--\")\n",
    "print(abstracts[2])\n",
    "#Both good summaries, catching the idea of the paper, similar to the abstract. Second one attempts to give a formula but fails. "
   ]
  },
  {
   "cell_type": "code",
   "execution_count": 16,
   "metadata": {},
   "outputs": [
    {
     "name": "stdout",
     "output_type": "stream",
     "text": [
      " This text discusses the comparison of various numerical integrators for computing molecular dynamics steps in the Schwinger model using the Hybrid Monte Carlo (HMC) algorithm. The authors consider a 122x122 lattice with coupling constant xmath123 and mass xmath124, taking parameters from [xcite] to simulate near the scaling limit with light fermions and increase the impact of the fermion part of the action. They use one thermalized gauge configuration and generate independent sets of momenta for each integrator and step size. The absolute error and statistical error are computed for each integrator and value of the step size. The micro step size is chosen to be 1/10 times smaller than the macro step size.  Figure [fig:1] compares the numerical integrators in terms of their absolute error versus the step size, showing that multi-rate schemes, RKF45 and RKF85, outperform their standard versions as expected. The adaptive nested force-gradient method has the best accuracy, while figure [fig:2] presents the CPU time required for each integrator versus the achieved accuracy. The nested force-gradient method and adapted nested force-gradient method show better computational efficiency than the other integrators.  Table [tab:1] shows the number of inversions of the Dirac operator needed to reach a 90% acceptance rate of the HMC algorithm, with @xmath121 being the most computationally demanding part. The adapted nested force-gradient method and nested force-gradient method require the least number of inversions per trajectory to reach the chosen acceptance rate.  The authors conclude that nested force-gradient schemes are an optimal choice for relatively high convergence order and low computational effort, and suggest further improvements by measuring Poisson brackets of the shadow Hamiltonian and tuning optimal parameters. In future work, they plan to apply this approach to the HMC algorithm for numerical integration in lattice QCD, expecting the adapted nested-force gradient scheme to outperform the original one with more partitioning of the action using techniques to factorize the fermion determinant.  References: [xcite] S. Duane, A.D. Kennedy, D. Pendleton, \"Hybrid Monte Carlo,\" Phys. Rev. Lett., vol. 59, no. 14, pp. 2273-2276, 1987. E. Hairer, G. Lubich, and G. Wanner, \"Geometric Numerical Integration: Structure-Preserving Algorithms for Ordinary Differential Equations,\" Springer, Berlin, 2002. I.M. Omelyan, R. Mryglod, and A. Folk, \"Symplectic Analytically Integrable Decomposition Algorithms: Classification, Derivation, and Application to Molecular Dynamics, Quantum and Celestial Mechanics,\" Comput. Phys. Commun., vol. 151, no. 2-3, pp. 267-304, 2003.\n",
      "-\n",
      " This text discusses the comparison of numerical integrators for computing molecular dynamics steps in the Schwinger model using the Hybrid Monte Carlo (HMC) algorithm. The authors consider a 2D lattice with specific parameters taken from a reference, aiming to simulate near the scaling limit with light fermions and increase the impact of the fermion part of the action. They use one thermalized gauge configuration and generate independent sets of momenta for each integrator and step size. The absolute error and statistical error are computed for each case.  The text compares the performance of several numerical integrators, including multi-rate schemes (Stochastic Heun, Runge-Kutta-Fehlberg, and Dormand-Prince), and their standard versions. Figure 1 shows the absolute error versus the step size, demonstrating that the multi-rate schemes outperform their standard counterparts as expected. The scheme with the best accuracy is the nested force-gradient method, which just slightly edges the adapted nested force-gradient scheme.  Figure 2 presents the CPU time required for each integrator versus the achieved accuracy. The results show that the nested force-gradient method and adapted nested force-gradient method are more computationally efficient than the other integrators, even compared to the 11-stage scheme. The modification proposed in a reference also performs better than its original version with almost similar computational costs.  The text also discusses the number of inversions of the Dirac operator needed to reach a 90% acceptance rate of the HMC algorithm and shows that the adapted nested force-gradient method and nested force-gradient method require the least number of inversions per trajectory. The authors suggest that these methods have the potential to perform even better in lattice QCD problems due to the significant impact of the fermion action and the computational time required to obtain the inversion of the Dirac operator.  In future work, the authors plan to apply this approach to the HMC algorithm for numerical integration in lattice QCD and expect the adapted nested-force gradient scheme to outperform the original one if they further partition the action into more parts using techniques to factorize the fermion determinant. This work is part of project B5 within the SFB/Transregio 55 _ Hadronenphysik mit Gitter-QCD _ funded by DFG (Deutsche Forschungsgemeinschaft).  References: - Duane, S., Kennedy, A.D., Pendleton, D., Roweth, Hybrid Monte Carlo, Phys. Rev. Lett. B195 (1987), pp. 1226-1230. - Hairer, E., Lubich, C., Wanner, G., Geometric Numerical Integration: Structure-Preserving Algorithms for Ordinary Differential Equations, Springer, Berlin, 2002. - Omelyan, I.M., Mryglod, R., Folk, Symplectic Analytically Integrable Decomposition Algorithms: Classification, Derivation, and Application to Molecular Dynamics, Comput. Phys. Commun. 151 (2003), pp. 47-68.\n",
      "--\n",
      " we study a novel class of numerical integrators , the adapted nested force - gradient schemes , used within the molecular dynamics step of the hybrid monte carlo ( hmc ) algorithm . \n",
      " we test these methods in the schwinger model on the lattice , a well known benchmark problem . \n",
      " we derive the analytical basis of nested force - gradient type methods and demonstrate the advantage of the proposed approach , namely reduced computational costs compared with other numerical integration schemes in hmc . \n"
     ]
    }
   ],
   "source": [
    "print(s1[3])\n",
    "print(\"-\")\n",
    "print(s2[3])\n",
    "print(\"--\")\n",
    "print(abstracts[3])\n",
    "#first summary goes too much into details, looses big picture. second as well."
   ]
  },
  {
   "cell_type": "code",
   "execution_count": 17,
   "metadata": {},
   "outputs": [
    {
     "name": "stdout",
     "output_type": "stream",
     "text": [
      " This paper discusses methods for deriving functional equations for Feynman integrals, specifically focusing on vacuum type integrals and integrals with external momenta. The authors introduce new methods that are simple and do not rely on integration by parts techniques. They also demonstrate that integrals with many kinematic arguments can be reduced to a combination of simpler integrals with fewer arguments.  The paper presents two methods for deriving functional equations: one based on recurrence relations, and the other using algebraic relations between products of propagators. The authors note that it is not yet clear whether functional equations derived from recurrence relations can be reproduced by the methods of algebraic relations between products of propagators.  The paper includes specific examples of functional equations for vacuum type integrals and integrals with external momenta, and discusses their implications for one-loop integrals with four, five, and six external legs, as well as some two- and three-loop Feynman integrals. The work was supported by the German Science Foundation (DFG) within the collaborative research center 676 _ Particle, Strings and the Early Universe: The Structure of Matter and Space-Time_.  The authors express their gratitude to O.L. Veretin for providing results for integrals contributing to ortho-positronium lifetime described in ref.[xcite].\n",
      "-\n",
      " This text describes a paper that derives new functional equations for Feynman integrals using simple methods without integration by parts techniques. The paper also shows how integrals with many kinematic arguments can be reduced to combinations of simpler integrals with fewer arguments. The authors plan to demonstrate in future publications that applying functional equations can reduce \"master integrals\" to a combination of simpler integrals from a \"universal\" basis.  The method used in this paper is based on algebraic relations for \"deformed propagators.\" This method can be applied not only to vacuum-type integrals but also to integrals that depend on external momenta. The text discusses particular cases of functional equations and mentions the need for a systematic investigation using methods from algebraic geometry and group theory.  The paper also presents new hypergeometric representations for one-loop massless vertex type integrals, which were discovered by relating dimensionally regularized one-loop vertex type integrals to two-dimensional integrals through a functional equation. The authors summarize their accomplishments in the paper and express gratitude for support from the German Science Foundation (DFG).\n",
      "--\n",
      " new methods for obtaining functional equations for feynman integrals are presented . \n",
      " application of these methods for finding functional equations for various one- and two- loop integrals described in detail . \n",
      " it is shown that with the aid of functional equations feynman integrals in general kinematics can be expressed in terms of simpler integrals .    \n",
      " pacs numbers : 02.30.gp , 02.30.ks , 12.20.ds , 12.38.bx + keywords : feynman integrals , functional equations     +    derivation of functional equations for feynman integrals + from algebraic relations   +    * o.v .  \n",
      " tarasov * +   ii . \n",
      " institut fr theoretische physik , universitt hamburg , + luruper chaussee 149 , 22761 hamburg , germany + and + joint institute for nuclear research , + 141980 dubna , russian federation + : otarasov@jinr.ru + \n"
     ]
    }
   ],
   "source": [
    "print(s1[4])\n",
    "print(\"-\")\n",
    "print(s2[4])\n",
    "print(\"--\")\n",
    "print(abstracts[4])\n",
    "#Both good summaries. Second focuses more on the methods used."
   ]
  },
  {
   "cell_type": "code",
   "execution_count": 19,
   "metadata": {},
   "outputs": [
    {
     "name": "stdout",
     "output_type": "stream",
     "text": [
      " This text appears to be discussing the use of the Hough transform in the search for gravitational waves, specifically in the context of periodic sources. The authors compare the efficiency and effectiveness of using a frequency Hough transform versus a sky Hough transform in terms of amplitude loss and computing cost. They find that the ratio of amplitude efficiencies is 1.317, which leads to a gain in computing cost for the same sensitivity. They also note the importance of adaptivity in the procedure and its applicability to situations where the source position is known but only the frequency needs to be estimated. The authors are also working on studying the efficiency of this method in terms of rejecting spurious lines in the peakmap.  The text includes several references to previous works on the Hough transform search for gravitational waves, including papers by Sintes et al., Astone et al., and Palomba et al. These papers discuss various aspects of the Hough transform search, such as its implementation, sensitivity evaluation, and application to Virgo data. The text also mentions a paper on \"incoherent strategies for the network detection of periodic gravitational waves\" by Palomba and Frasca, which may be relevant to the current discussion as well.\n",
      "-\n",
      " This text discusses the comparison between two methods, frequency Hough and sky Hough, used in the analysis of gravitational waves. The authors find that the use of an over-resolution for the sky map increases the amplitude loss for both methods but has a greater impact on the computing cost for the sky Hough method. They also note that the adaptivity of the procedure is simpler with the sky Hough method since each hough map is done for a single sky position. The text suggests that this new method is appropriate for situations where the source position is known and only the source frequency and spin down need to be estimated. Additionally, they are working on studying the efficiency of this method in terms of rejection of spurious lines in the peakmap. They expect this new method to be much more insensitive to the presence of spurious lines since in the chosen hough plane, spurious lines and gravitational wave signals should have a very different and well-separable behavior.  The text cites several papers related to the Hough transform search for continuous gravitational waves, improved Hough search for gravitational wave pulsars, the short FFT database and the peakmap for the hierarchical search of periodic sources, evaluation of sensitivity and computing power for the Virgo hierarchical search for periodic sources, adaptive Hough transform for the search of periodic sources, coincidence analysis between periodic source candidates in C6 and C7 Virgo data, first coincidence search among periodic gravitational wave source candidates using Virgo data, and incoherent strategies for the network detection of periodic gravitational waves.\n",
      "--\n",
      " in the hierarchical search for periodic sources of gravitational waves , the candidate selection , in the incoherent step , can be performed with hough transform procedures . in this paper \n",
      " we analyze the problem of sensitivity loss due to discretization of the parameters space vs computing cost , comparing the properties of the sky hough procedure with those of a new frequency hough , which is based on a transformation from the _ time - observed frequency _ plane to the _ source frequency - spin down _ plane . \n",
      " results on simulated peakmaps suggest various advantages in favor of the use of the frequency hough . the ones which show up to really make the difference are 1 ) the possibility to enhance the frequency resolution without relevantly affecting the computing cost . \n",
      " this reduces the digitization effects ; 2 ) the excess of candidates due to local disturbances in some places of the sky map . \n",
      " they do not affect the new analysis because each map is constructed for only one position in the sky . \n",
      " + pacs . \n",
      " numbers : 04.80nn,07.05kf,97.60jd \n"
     ]
    }
   ],
   "source": [
    "print(s1[5])\n",
    "print(\"-\")\n",
    "print(s2[5])\n",
    "print(\"--\")\n",
    "print(abstracts[5])\n",
    "#Both summaries give more information than the abstract. summary 1 gives references as well which is not suited for a summary. \n",
    "# Both say that one of the methods some results or mention numbers, but didn't tell  which of the methods is now better, as the abstract does. \n",
    "# Summary 2 is closer as summary 1 only mention the result in numbers without conclusion."
   ]
  },
  {
   "cell_type": "markdown",
   "metadata": {},
   "source": []
  },
  {
   "cell_type": "code",
   "execution_count": 22,
   "metadata": {},
   "outputs": [
    {
     "name": "stdout",
     "output_type": "stream",
     "text": [
      " This text is a scientific review discussing the progress made in identifying the progenitors of certain types of core-collapse supernovae (CCSNe) using pre-explosion images. The author discusses five different types of CCSNe and provides an update on the current understanding of their progenitor stars based on observational data.  Type II-Plateau supernovae (SNe II-P) are the best-studied category, with eight putative progenitor detections and 12 upper luminosity limits established. The evidence suggests that red supergiants (RSGs) are the immediate progenitors of SNe II-P. However, an intriguing result is that all but one of the detected SNe II-P have initial masses constrained to be below 30 solar masses, which is surprising since RSGs up to 32 solar masses are observed in the local group. This lack of massive RSG progenitors leads researchers to speculate that these massive RSG progenitors may be forming black holes heralded by faint or non-existent SN explosions.  Type II-Linear supernovae (SNe II-L) are a rare type, with only one known example (SN 1980k), and no pre-explosion images exist for most of them. The analysis of the stellar population of SN 1979c by @xcite determines a mass range of 34 solar masses for its progenitor, but firm conclusions about the progenitors cannot be made yet.  Type IIn supernovae (SNe IIn) have one known example (SN 2005gl) with a very massive progenitor that exploded while in the luminous blue variable (LBV) phase, but it is unclear if this is indicative of the class as a whole.  Type IIB supernovae have pre-explosion images for two events: SN 1993j in M81 and SN 2008ax. The analysis of SN 1993j suggests that a 35 solar mass star exploded in a binary system, with a slightly less massive secondary surviving the explosion. The recent discovery of pre-explosion HST/WFPC2 images for SN 2008ax provides an opportunity to further investigate this rare class of CCSNe.  Type Ib/c supernovae have ten upper limits but no detections from analysis of pre-SN images, which is surprising since it is commonly thought that at least some of their progenitors should be luminous, single W-R stars. However, it is unlikely that all SNe Ib/c come from them based on current data.  The author concludes by discussing the future directions of research in this field and the exciting prospects for discoveries at the extremes of mass ranges, as well as the role of binarity in these conclusions. The review provides a comprehensive update on the current state of research on CCSN progenitor identification using pre-explosion images.\n",
      "-\n",
      " The given text summarizes the current state of research on supernova (SN) progenitors based on direct observations of pre-SN images. Here's a brief summary:  1. Type II-plateau SN (SNe II-P): Eight putative progenitor detections and 12 upper luminosity limits have been established for this category, suggesting that red supergiants (RSG) are their immediate progenitors. However, the mass constraint on SNe II-P progenitors is surprising since RSG up to @xmath32 masses are observed in the local group and should have been detected in pre-SN images. This leads researchers to speculate that massive RSG progenitors may be forming black holes without SN explosions. 2. Type II-linear SN (SNe II-L): Only one SN II-L (SN 1980k) has a pre-SN image, which rules out massive RSG greater than about @xmath33. The progenitor mass range for this type of SN is not yet conclusively determined. 3. Type IIn SN: SN 2005gl is the only example with a detected progenitor in pre-SN images, and its massive progenitor's existence does not necessarily indicate that all Type IIn SNe have such massive progenitors. 4. Type Ib/c SN: No detections have been made from analysis of pre-SN images for this class, which is surprising since it is commonly thought that at least some of their progenitors should be luminous, single W-R stars. However, it is unlikely that all SNe Ib/c come from them. 5. Future directions: Researchers are interested in understanding the lack of massive RSG progenitors for SNe II-P and the possibility of a mass cutoff for direct collapse to black holes. They also want to investigate how binarity influences these conclusions. The field is expected to make significant advances in the coming decade.\n",
      "--\n",
      " i summarize what we have learned about the nature of stars that ultimately explode as core - collapse supernovae from the examination of images taken prior to the explosion . by registering pre - supernova and post - supernova images , usually taken at high resolution using either space - based optical detectors , or ground - based infrared detectors equipped with laser guide star adaptive optics systems , nearly three dozen core - collapse supernovae \n",
      " have now had the properties of their progenitor stars either directly measured or ( more commonly ) constrained by establishing upper limits on their luminosities . \n",
      " these studies enable direct comparison with stellar evolution models that , in turn , permit estimates of the progenitor stars physical characteristics to be made . \n",
      " i review progenitor characteristics ( or constraints ) inferred from this work for each of the major core - collapse supernova types ( ii - plateau , ii - linear , iib , iin , ib / c ) , with a particular focus on the analytical techniques used and the processes through which conclusions have been drawn . \n",
      " brief discussion of a few individual events is also provided , including sn 2005gl , a type iin supernova that is shown to have had an extremely luminous  and thus very massive  progenitor that exploded shortly after a violent , luminous blue variable - like eruption phase , contrary to standard theoretical predictions . \n"
     ]
    }
   ],
   "source": [
    "print(s1[6])\n",
    "print(\"-\")\n",
    "print(s2[6])\n",
    "print(\"--\")\n",
    "print(abstracts[6])\n",
    "#Identifies correctly that the paper summarizes works\n"
   ]
  },
  {
   "cell_type": "code",
   "execution_count": 31,
   "metadata": {},
   "outputs": [
    {
     "name": "stdout",
     "output_type": "stream",
     "text": [
      " This text appears to be a list of scientific papers and talks related to spin physics, specifically in the context of various collaborations such as COMPASS, RHIC, GSI-PAX, and others. The papers cover topics such as single-spin asymmetries, Drell-Yan measurements, and transverse momentum dependence. Some of the authors mentioned include Avakian, Alexakhin, Belitsky, Boer, Bacchetta, Efremov, Qiu, and Vogelsang. The papers are published in various journals such as Physics Letters B, Nuclear Physics, and Physical Review D. Some of the talks were presented at workshops and symposiums held in places like Brookhaven National Laboratory, Kyoto, Japan, and Tsukuba, Ibaraki, Japan. The papers span the years from 1982 to 2006, with some works still in preparation.\n",
      "-\n",
      " This text appears to be a list of references for a research paper or report, likely in the field of high energy physics or nuclear physics. The references are cited alphabetically by author last name, with each reference given a unique identifier (e.g., \"a.\", \"b.\", \"c.\", etc.) for ease of referencing within the text.  The references include works by various collaborations and research groups, such as the Bravar spin muon collaboration, the COMPASS collaboration, and the GSI-PAX collaboration. Many of the references are journal articles published in physics journals, while others are conference proceedings or technical reports. The topics covered in these references include single-spin asymmetries, Drell-Yan measurements, and various theoretical models and calculations related to particle scattering and interactions.  Some of the references mention specific experiments or facilities, such as RHIC (Relativistic Heavy Ion Collider) and J-PARC (Japan Proton Accelerator Research Complex). Others refer to specific talks presented at various workshops and symposia. Overall, it appears that this list of references is related to research in the field of spin physics and hadron interactions.\n",
      "--\n",
      " we present a phenomenological study of the single - transverse spin asymmetry in azimuthal correlations of two jets produced nearly `` back - to - back '' in @xmath0 collisions at rhic . \n",
      " we properly take into account the initial- and final - state interactions of partons that can generate this asymmetry in qcd hard - scattering . using distribution functions fitted to the existing single - spin data , we make predictions for various weighted single - spin asymmetries in dijet correlations that are now readily testable at rhic . \n"
     ]
    }
   ],
   "source": [
    "print(s1[7])\n",
    "print(\"-\")\n",
    "print(s2[7])\n",
    "print(\"--\")\n",
    "print(abstracts[7])\n",
    "#Both interprete the papers as list of references. First one is better as it still gives some content in key words of the paper, while the second only focuses on the references\n",
    "#"
   ]
  },
  {
   "cell_type": "code",
   "execution_count": 33,
   "metadata": {},
   "outputs": [
    {
     "name": "stdout",
     "output_type": "stream",
     "text": [
      " This text appears to be a proof of a theorem in statistics, specifically about the Kingman coalescent in the context of the exchangeable coalescent process. The proof uses the rate function and the large deviation principle. The theorem states that the number of particles in the exchangeable coalescent process converges almost surely to a certain random variable as the number of particles goes to infinity. The text also mentions Lemma [l : wn] which is used in the proof but its statement is not provided.  The proof starts by defining some notation and setting up the problem. It then uses the fact that the minimum of a function is attained at its global minimum to prove a certain assertion. The rate function is shown to be of a specific form using integration by parts and the distribution function of the one-dimensional standard Gaussian distribution.  The text then shows that the expected value of a certain term is positive, which is necessary for the proof. This is done by analyzing the behavior of the term as t goes to infinity and using the fact that the probability of an event related to a random variable is non-negative.  Finally, the theorem is proven using Lemma [l : wn] and the strong law of large numbers. The text concludes by acknowledging the contributions of other researchers and the funding sources for the research.\n",
      "-\n",
      " This text appears to be a proof of a theorem in statistics, specifically about the rate function of a coalescent process. The proof uses various mathematical results and lemmas, including Theorem 1.1 from a reference called \"@xcite\". The author also thanks several people for their contributions to the research.  The proof begins by defining some notation and setting up the problem. They then prove that the minimum of a certain quantity is achieved when a certain condition is met. Next, they show that the rate function has a specific form and justify its positivity.  The author then uses Lemma [l : wn] to prove an inequality, which holds almost surely as n goes to infinity. They conclude by thanking several people for their contributions to the research and acknowledging funding from the German Research Foundation (DFG). The reference \"@xcite\" is cited as a source for results used in the proof.\n",
      "--\n",
      " kingman s coalescent is a random tree that arises from classical population genetic models such as the moran model . \n",
      " the individuals alive in these models correspond to the leaves in the tree and the following two laws of large numbers concerning the structure of the tree - top are well - known : ( i ) the ( shortest ) distance , denoted by @xmath0 , from the tree - top to the level when there are @xmath1 lines in the tree satisfies @xmath2 almost surely ; ( ii ) at time @xmath0 , the population is naturally partitioned in exactly @xmath1 families where individuals belong to the same family if they have a common ancestor at time @xmath0 in the past . if @xmath3 denotes the size of the @xmath4th family , then @xmath5 almost surely . for both laws of large numbers \n",
      " we prove corresponding large deviations results . for ( i ) , the rate of the large deviations is @xmath1 and we can give the rate function explicitly . for ( ii ) , the rate is @xmath1 for downwards deviations and @xmath6 for upwards deviations . for both cases \n",
      " we give the exact rate function .    \n",
      " =     =    =     = \n"
     ]
    }
   ],
   "source": [
    "print(s1[8])\n",
    "print(\"-\")\n",
    "print(s2[8])\n",
    "print(\"--\")\n",
    "print(abstracts[8])\n",
    "#Both identify the important things second mentioned the thanks, not relevant in a summary. \n",
    "# Both mention rater how the theorem was proven than what it says which would be more interesting."
   ]
  },
  {
   "cell_type": "code",
   "execution_count": 35,
   "metadata": {},
   "outputs": [
    {
     "name": "stdout",
     "output_type": "stream",
     "text": [
      " This text describes the study of multi-component solitary waves in quasiperiodic quasi-phase matching (QPM) gratings using numerical simulations. The grating function varies according to the Fibonacci sequence, and its Fourier spectrum is composed of sums and differences of the basic wavenumbers, which fill the whole Fourier space densely due to their incommensurability.  The authors analyze the propagation and second harmonic generation (SHG) in the quasiperiodic QPM grating by going beyond the averaged equations to consider the rapid large-amplitude variations of the envelope functions. They find that for weak input beams, both beams eventually diffract, but when the amplitude of the input beam exceeds a certain threshold, self-focusing and localization are observed for both harmonics. The resulting two-component soliton is quasiperiodic by itself and oscillates in phase with the QPM grating modulation.  The authors also investigate the transition between the linear (diffraction) and nonlinear (self-trapping) regimes by simulating the transmission coefficients and beam widths at the output of the crystal versus the intensity of the fundamental harmonic input beam for various phase mismatch values. They find that a quasiperiodic soliton is generated only for sufficiently high amplitudes, illustrating the universality of localized mode generation for varying strength of nonlinearity in quasiperiodic waves.  The text also mentions several other examples of multi-component solitary waves in nonlinear optical fibers and waveguides, including multi-wavelength solitary waves in multi-channel bit-parallel wavelength fiber transmission systems, multi-color parametric spatial solitary waves due to multistep cascading in quadratic materials, and quasiperiodic envelope solitons in Fibonacci optical superlattices. These examples reveal some general features and properties of multi-component solitary waves in nonintegrable nonlinear models and serve as a stepping stone for approaching other problems of multi-mode soliton coupling and interaction.  The work was supported by the Australian Photonics Cooperative Research Centre and a collaborative Australia-Denmark grant of the Department of Industry, Science, and Tourism (Australia). For an overview of quadratic spatial solitons, see [Torner, L., in: Beam shaping and control with nonlinear optics, F. Kajzer and R. Reinisch, eds. (Plenum, New York, 1998), p. 229] and [Yu. S. Kivshar, in: Advanced photonics with second-order optically nonlinear processes, A. D. Boardman, L. Pavlov, and S. Tanev, eds. (Kluwer, Dordrecht, 1998), p. 451].\n",
      "-\n",
      " This text describes the study of multi-component solitary waves in quasiperiodic quasi-phase matching (QPM) gratings using Fibonacci sequences. The authors have numerically simulated the propagation of a fundamental beam through a QPM grating and observed different regimes: linear (diffraction) and nonlinear (self-trapping). In the linear regime, both harmonics are excited but eventually diffract. In the nonlinear regime, self-focusing and mutual self-trapping lead to the formation of spatially localized two-component solitons. The authors also found that the oscillations of the envelope solitons are in phase with the oscillations of the QPM grating, and the amplitude and width of the solitons depend on the effective mismatch between the input beam frequency and the nearest strong peak in the Fibonacci QPM grating spectrum. The results show that quasiperiodic envelope solitons can be generated for a broad range of phase-mismatch values. The authors also mention other examples of multi-component solitary waves in nonlinear optical fibers and waveguides, such as multi-wavelength solitary waves in multi-channel bit-parallel wavelength fiber transmission systems and multi-color parametric spatial solitary waves due to multistep cascading in quadratic materials. The work was supported by the Australian Photonics Cooperative Research Centre and a collaborative Australia-Denmark grant of the Department of Industry, Science, and Tourism (Australia). For more information on quadratic spatial solitons, see [Torner, L.,] in: _Beam shaping and control with nonlinear optics_, F. Kajzer and R. Reinisch, eds. (Plenum, New York, 1998), p. 229; and Yu. S. Kivshar, in: _Advanced photonics with second-order optically nonlinear processes_, A. D. Boardman, L. Pavlov, and S. Tanev, eds. (Kluwer, Dordrecht, 1998), p. 451.\n",
      "--\n",
      " we discuss several novel types of multi - component ( temporal and spatial ) envelope solitary waves that appear in fiber and waveguide nonlinear optics . \n",
      " in particular , we describe multi - channel solitary waves in bit - parallel - wavelength fiber transmission systems for high performance computer networks , multi - colour parametric spatial solitary waves due to cascaded nonlinearities of quadratic materials , and quasiperiodic envelope solitons due to quasi - phase - matching in fibonacci optical superlattices .    2 \n"
     ]
    }
   ],
   "source": [
    "print(s1[9])\n",
    "print(\"-\")\n",
    "print(s2[9])\n",
    "print(\"--\")\n",
    "print(abstracts[9])\n",
    "#similar to abstract, same keywords"
   ]
  },
  {
   "cell_type": "code",
   "execution_count": 36,
   "metadata": {},
   "outputs": [
    {
     "name": "stdout",
     "output_type": "stream",
     "text": [
      "len summary 1 1187\n",
      "len summary 2 1621\n",
      "compare it to the len of abstract 1261\n",
      "len summary 1 1817\n",
      "len summary 2 1536\n",
      "compare it to the len of abstract 678\n",
      "len summary 1 1471\n",
      "len summary 2 1002\n",
      "compare it to the len of abstract 545\n",
      "len summary 1 2698\n",
      "len summary 2 2927\n",
      "compare it to the len of abstract 504\n",
      "len summary 1 1409\n",
      "len summary 2 1238\n",
      "compare it to the len of abstract 816\n",
      "len summary 1 1276\n",
      "len summary 2 1661\n",
      "compare it to the len of abstract 1067\n",
      "len summary 1 2582\n",
      "len summary 2 1711\n",
      "compare it to the len of abstract 1425\n",
      "len summary 1 767\n",
      "len summary 2 1201\n",
      "compare it to the len of abstract 537\n",
      "len summary 1 1351\n",
      "len summary 2 907\n",
      "compare it to the len of abstract 1101\n",
      "len summary 1 2617\n",
      "len summary 2 1831\n",
      "compare it to the len of abstract 531\n"
     ]
    }
   ],
   "source": [
    "for i in range(10):\n",
    "    print(\"len summary 1\",len(s1[i]))\n",
    "    print(\"len summary 2\",len(s2[i]))\n",
    "    print(\"compare it to the len of abstract\",len(abstracts[i]))\n",
    "#generated summaries are usually longer."
   ]
  },
  {
   "cell_type": "code",
   "execution_count": 25,
   "metadata": {},
   "outputs": [
    {
     "data": {
      "text/plain": [
       "' The text appears to be discussing the results of an analysis of sunspot data, specifically looking for periodicities in sunspot area fluctuations during the maximum activity period of solar cycle 16. The authors used wavelet analysis and autocorrelation functions to investigate the existence of a periodicity around 155 days. They found that the dispersion of points related to this periodicity was large, making it difficult to confirm its existence. They also compared the autocorrelation functions and periodograms of sunspot area fluctuations from each solar hemisphere separately during the maximum activity period. The results suggested that there might be a statistically significant positive peak in the interval of 155-165 days for the southern hemisphere, but the resolution of the periodogram was not sufficient to make a definitive conclusion. The authors also noted that power spectrum analysis alone may not be sufficient to detect true periodicities and suggested using both correlative and power spectrum analyses together. Overall, the text indicates that further research is needed to confirm the existence and significance of the 155-day periodicity in sunspot data.'"
      ]
     },
     "execution_count": 25,
     "metadata": {},
     "output_type": "execute_result"
    }
   ],
   "source": [
    "summaries_list[0]"
   ]
  },
  {
   "cell_type": "markdown",
   "metadata": {},
   "source": [
    "### Self evaluating"
   ]
  },
  {
   "cell_type": "code",
   "execution_count": 25,
   "metadata": {},
   "outputs": [],
   "source": [
    "llm = Ollama(model = \"mistral\",temperature=0)"
   ]
  },
  {
   "cell_type": "code",
   "execution_count": 34,
   "metadata": {},
   "outputs": [],
   "source": [
    "def scorer_llm(summary,abstract):\n",
    "    instruction = r\"\"\" I have an ideal summary and a candidate summary of a text. Please score the candidate summary on a scale of 0 to 1 based on accuracy, completeness, coherence, and relevance. Note if it is not a summary or unrelated the score should be low, still give a score. Be strict.\n",
    "                    At the end combine the scores to a Overall Score\n",
    "                    \n",
    "                    Ideal Summary:\n",
    "                    \"\"\"+abstract+\"\"\"        \n",
    "\n",
    "                    Candidate Summary:\n",
    "                    \"\"\"+summary+\"\"\"\n",
    "\n",
    "                    Score:\n",
    "                    \"\"\"\n",
    "    answer = llm.invoke(instruction)\n",
    "    print(answer)\n",
    "    numbers = re.findall(r'Overall Score: \\d+\\.?\\d* | Score: \\d+\\.?\\d*', answer)\n",
    "    print(numbers)\n",
    "    if not numbers[0]:\n",
    "        print(answer)\n",
    "    score = re.findall(r'\\d+\\.?\\d*',numbers[0])[0]\n",
    "    return score,answer"
   ]
  },
  {
   "cell_type": "code",
   "execution_count": 30,
   "metadata": {},
   "outputs": [
    {
     "name": "stdout",
     "output_type": "stream",
     "text": [
      " Based on the given ideal summary and candidate summary, I would score the candidate summary as follows:\n",
      "\n",
      "Accuracy: 0.5\n",
      "The candidate summary does not directly quote or summarize any specific information from the original text. However, it does provide a list of references related to the same research area as the ideal summary.\n",
      "\n",
      "Completeness: 1.0\n",
      "The candidate summary provides a comprehensive list of all the references mentioned in the ideal summary.\n",
      "\n",
      "Coherence: 1.0\n",
      "The candidate summary is coherent with the given ideal summary as they both deal with gravitational physics and astrophysics research.\n",
      "\n",
      "Relevance: 1.0\n",
      "The candidate summary is highly relevant to the ideal summary as it provides a list of references related to the same research area.\n",
      "\n",
      "Overall Score: 0.85 (average of the four scores)\n",
      "0.85\n"
     ]
    }
   ],
   "source": [
    "score, ex = scorer_llm(summaries_list[1],abstracts[1])\n",
    "print(ex)\n",
    "print(score)"
   ]
  },
  {
   "cell_type": "code",
   "execution_count": 42,
   "metadata": {},
   "outputs": [],
   "source": [
    "llm_scores = []\n",
    "for i in range(10):\n",
    "    score, _ = scorer_llm(summaries_list[i],abstracts[i])\n",
    "    llm_scores.append(score)\n",
    "array = np.array([float(s) for s in llm_scores])\n",
    "np.savetxt('results/'+filename+'_selfeval.txt',array,fmt='%.4f')"
   ]
  },
  {
   "cell_type": "code",
   "execution_count": 6,
   "metadata": {},
   "outputs": [
    {
     "name": "stdout",
     "output_type": "stream",
     "text": [
      "Please run the following command and add it to your startup script: \n",
      " export ROUGE_HOME=/home/deborah/FS24/masterarbeit/State_of_the_art/.venv/lib/python3.10/site-packages/summ_eval/ROUGE-1.5.5/\n",
      "Please also run this command: \n",
      " pip install -U  git+https://github.com/bheinzerling/pyrouge.git\n"
     ]
    },
    {
     "ename": "NameError",
     "evalue": "name 'exit' is not defined",
     "output_type": "error",
     "traceback": [
      "\u001b[0;31m---------------------------------------------------------------------------\u001b[0m",
      "\u001b[0;31mKeyError\u001b[0m                                  Traceback (most recent call last)",
      "File \u001b[0;32m~/FS24/masterarbeit/State_of_the_art/.venv/lib/python3.10/site-packages/summ_eval/rouge_metric.py:12\u001b[0m\n\u001b[1;32m     11\u001b[0m \u001b[38;5;28;01mtry\u001b[39;00m:\n\u001b[0;32m---> 12\u001b[0m     ROUGE_HOME \u001b[38;5;241m=\u001b[39m \u001b[43mos\u001b[49m\u001b[38;5;241;43m.\u001b[39;49m\u001b[43menviron\u001b[49m\u001b[43m[\u001b[49m\u001b[38;5;124;43m'\u001b[39;49m\u001b[38;5;124;43mROUGE_HOME\u001b[39;49m\u001b[38;5;124;43m'\u001b[39;49m\u001b[43m]\u001b[49m\n\u001b[1;32m     13\u001b[0m     \u001b[38;5;28;01mfrom\u001b[39;00m \u001b[38;5;21;01mpyrouge\u001b[39;00m \u001b[38;5;28;01mimport\u001b[39;00m Rouge155\n",
      "File \u001b[0;32m/usr/lib/python3.10/os.py:680\u001b[0m, in \u001b[0;36m_Environ.__getitem__\u001b[0;34m(self, key)\u001b[0m\n\u001b[1;32m    678\u001b[0m \u001b[38;5;28;01mexcept\u001b[39;00m \u001b[38;5;167;01mKeyError\u001b[39;00m:\n\u001b[1;32m    679\u001b[0m     \u001b[38;5;66;03m# raise KeyError with the original key value\u001b[39;00m\n\u001b[0;32m--> 680\u001b[0m     \u001b[38;5;28;01mraise\u001b[39;00m \u001b[38;5;167;01mKeyError\u001b[39;00m(key) \u001b[38;5;28;01mfrom\u001b[39;00m \u001b[38;5;28;01mNone\u001b[39;00m\n\u001b[1;32m    681\u001b[0m \u001b[38;5;28;01mreturn\u001b[39;00m \u001b[38;5;28mself\u001b[39m\u001b[38;5;241m.\u001b[39mdecodevalue(value)\n",
      "\u001b[0;31mKeyError\u001b[0m: 'ROUGE_HOME'",
      "\nDuring handling of the above exception, another exception occurred:\n",
      "\u001b[0;31mNameError\u001b[0m                                 Traceback (most recent call last)",
      "Cell \u001b[0;32mIn[6], line 1\u001b[0m\n\u001b[0;32m----> 1\u001b[0m \u001b[38;5;28;01mfrom\u001b[39;00m \u001b[38;5;21;01msumm_eval\u001b[39;00m\u001b[38;5;21;01m.\u001b[39;00m\u001b[38;5;21;01mrouge_metric\u001b[39;00m \u001b[38;5;28;01mimport\u001b[39;00m RougeMetric\n\u001b[1;32m      2\u001b[0m rouge \u001b[38;5;241m=\u001b[39m RougeMetric()\n",
      "File \u001b[0;32m~/FS24/masterarbeit/State_of_the_art/.venv/lib/python3.10/site-packages/summ_eval/rouge_metric.py:25\u001b[0m\n\u001b[1;32m     23\u001b[0m     \u001b[38;5;28mprint\u001b[39m(\u001b[38;5;124mf\u001b[39m\u001b[38;5;124m'\u001b[39m\u001b[38;5;124mPlease run the following command and add it to your startup script: \u001b[39m\u001b[38;5;130;01m\\n\u001b[39;00m\u001b[38;5;124m export ROUGE_HOME=\u001b[39m\u001b[38;5;132;01m{\u001b[39;00mos\u001b[38;5;241m.\u001b[39mpath\u001b[38;5;241m.\u001b[39mjoin(dirname,\u001b[38;5;250m \u001b[39m\u001b[38;5;124m\"\u001b[39m\u001b[38;5;124mROUGE-1.5.5/\u001b[39m\u001b[38;5;124m\"\u001b[39m)\u001b[38;5;132;01m}\u001b[39;00m\u001b[38;5;124m'\u001b[39m)\n\u001b[1;32m     24\u001b[0m     \u001b[38;5;28mprint\u001b[39m(\u001b[38;5;124mf\u001b[39m\u001b[38;5;124m'\u001b[39m\u001b[38;5;124mPlease also run this command: \u001b[39m\u001b[38;5;130;01m\\n\u001b[39;00m\u001b[38;5;124m pip install -U  git+https://github.com/bheinzerling/pyrouge.git\u001b[39m\u001b[38;5;124m'\u001b[39m)\n\u001b[0;32m---> 25\u001b[0m     \u001b[43mexit\u001b[49m()\n\u001b[1;32m     27\u001b[0m \u001b[38;5;129m@gin\u001b[39m\u001b[38;5;241m.\u001b[39mconfigurable\n\u001b[1;32m     28\u001b[0m \u001b[38;5;28;01mclass\u001b[39;00m \u001b[38;5;21;01mRougeMetric\u001b[39;00m(Metric):\n\u001b[1;32m     29\u001b[0m     \u001b[38;5;28;01mdef\u001b[39;00m \u001b[38;5;21m__init__\u001b[39m(\u001b[38;5;28mself\u001b[39m, rouge_dir\u001b[38;5;241m=\u001b[39mROUGE_HOME, rouge_args\u001b[38;5;241m=\u001b[39m\u001b[38;5;28;01mNone\u001b[39;00m, verbose\u001b[38;5;241m=\u001b[39m\u001b[38;5;28;01mFalse\u001b[39;00m):\n",
      "\u001b[0;31mNameError\u001b[0m: name 'exit' is not defined"
     ]
    }
   ],
   "source": [
    "from summ_eval.rouge_metric import RougeMetric\n",
    "rouge = RougeMetric()"
   ]
  },
  {
   "cell_type": "code",
   "execution_count": null,
   "metadata": {},
   "outputs": [],
   "source": []
  }
 ],
 "metadata": {
  "kernelspec": {
   "display_name": ".venv",
   "language": "python",
   "name": "python3"
  },
  "language_info": {
   "codemirror_mode": {
    "name": "ipython",
    "version": 3
   },
   "file_extension": ".py",
   "mimetype": "text/x-python",
   "name": "python",
   "nbconvert_exporter": "python",
   "pygments_lexer": "ipython3",
   "version": "3.10.12"
  }
 },
 "nbformat": 4,
 "nbformat_minor": 2
}
