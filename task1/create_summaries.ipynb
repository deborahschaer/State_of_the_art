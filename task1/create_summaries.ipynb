{
 "cells": [
  {
   "cell_type": "markdown",
   "metadata": {},
   "source": [
    "Use of Ollamas llms: https://www.youtube.com/watch?v=h_GTxRFYETY\n"
   ]
  },
  {
   "cell_type": "markdown",
   "metadata": {},
   "source": [
    "# Create summaries\n",
    "Here summaries of arxiv papers are created with the use of the llm mistral of Ollama"
   ]
  },
  {
   "cell_type": "markdown",
   "metadata": {},
   "source": [
    "### Load the papers\n",
    "The papers are separated into abstract and text. In the text there is no abstract. So that the text can serve as candidate to be summarized."
   ]
  },
  {
   "cell_type": "code",
   "execution_count": 1,
   "metadata": {},
   "outputs": [],
   "source": [
    "from data import load_papers \n",
    "import re\n",
    "separator = \"\\n---SEPARATOR---\\n\" #separates texts for later\n"
   ]
  },
  {
   "cell_type": "code",
   "execution_count": 2,
   "metadata": {},
   "outputs": [
    {
     "name": "stdout",
     "output_type": "stream",
     "text": [
      "There are  100  papers.\n"
     ]
    }
   ],
   "source": [
    "abstracts, texts = load_papers(split='test.txt')\n",
    "print('There are ',len(texts),' papers.')"
   ]
  },
  {
   "cell_type": "markdown",
   "metadata": {},
   "source": [
    "### Get the llm mistral\n"
   ]
  },
  {
   "cell_type": "code",
   "execution_count": 3,
   "metadata": {},
   "outputs": [
    {
     "ename": "ModuleNotFoundError",
     "evalue": "No module named 'langchain_community'",
     "output_type": "error",
     "traceback": [
      "\u001b[0;31m---------------------------------------------------------------------------\u001b[0m",
      "\u001b[0;31mModuleNotFoundError\u001b[0m                       Traceback (most recent call last)",
      "Cell \u001b[0;32mIn[3], line 1\u001b[0m\n\u001b[0;32m----> 1\u001b[0m \u001b[38;5;28;01mfrom\u001b[39;00m \u001b[38;5;21;01mlangchain_community\u001b[39;00m\u001b[38;5;21;01m.\u001b[39;00m\u001b[38;5;21;01mllms\u001b[39;00m \u001b[38;5;28;01mimport\u001b[39;00m Ollama\n\u001b[1;32m      2\u001b[0m \u001b[38;5;28;01mimport\u001b[39;00m \u001b[38;5;21;01mnumpy\u001b[39;00m \u001b[38;5;28;01mas\u001b[39;00m \u001b[38;5;21;01mnp\u001b[39;00m\n",
      "\u001b[0;31mModuleNotFoundError\u001b[0m: No module named 'langchain_community'"
     ]
    }
   ],
   "source": [
    "from langchain_community.llms import Ollama\n",
    "import numpy as np\n",
    "\n"
   ]
  },
  {
   "cell_type": "code",
   "execution_count": 4,
   "metadata": {},
   "outputs": [],
   "source": [
    "\"\"\"\n",
    "Before i installed ollama:$ curl -fsSL https://ollama.com/install.sh | sh\n",
    "and then installed mistral with  $ ollama pull mistral\n",
    "Getting mistral and setting the temperature to 0, so that there is always the same answer.\n",
    "\"\"\"\n",
    "llm = Ollama(model = \"mistral\",temperature=0)"
   ]
  },
  {
   "cell_type": "markdown",
   "metadata": {},
   "source": [
    "### Write summaries with simple prompt"
   ]
  },
  {
   "cell_type": "code",
   "execution_count": 5,
   "metadata": {},
   "outputs": [],
   "source": [
    "def ask_for_summary(article):\n",
    "    instruction = \"Write a summary of following article:\"\n",
    "    answer = llm.invoke(instruction + article)\n",
    "    answer = re.sub('\\n',' ',answer)\n",
    "    return answer"
   ]
  },
  {
   "cell_type": "code",
   "execution_count": 6,
   "metadata": {},
   "outputs": [],
   "source": [
    "def write_answers(num,filename):\n",
    "    summaries = []\n",
    "    for i in range(num):\n",
    "        summaries.append(ask_for_summary(texts[i]))\n",
    "        \n",
    "    summaries = separator.join(summaries)\n",
    "    with open('summaries/'+filename, 'w') as file:\n",
    "            file.write(summaries)\n",
    "    return summaries"
   ]
  },
  {
   "cell_type": "code",
   "execution_count": 14,
   "metadata": {},
   "outputs": [],
   "source": [
    "#Generate 10 or 100 summaries\n",
    "summaries = write_answers(10,'write_summary.txt')\n",
    "#summaries = write_answers(100,'write_summary100.txt')"
   ]
  },
  {
   "cell_type": "code",
   "execution_count": 20,
   "metadata": {},
   "outputs": [
    {
     "name": "stdout",
     "output_type": "stream",
     "text": [
      " It appears that you have provided a list of references related to gravitational physics and astrophysics, specifically those dealing with topics such as black holes, gravitational waves, and cosmology. Here is the information extracted from the given references:  1. Jackiw and Pi (2003) - Phys. Rev. D **68**, 104012 (gr-qc/0308071) 2. Satoh, Kanno, and Soda (2008) - Phys. Rev. D **77**, 023526 (astro-ph/07063585) 3. Contaldi, Magueijo, and Smolin (2008) - Phys. Rev. Lett. **101**, 141101 (astro-ph/08063082) 4. Takahashi and Soda (2009) - Phys. Rev. Lett. **102**, 231301 (hep-th/09040554) 5. Cook and Sorbo (2012) - Phys. Rev. D **85**, 023534; **86**, 069901 6. Obata, Miura, and Soda (2015) - Phys. Rev. D **92**, 063516 (astro-ph/14127620) 7. Lightman et al. (1979) - Problem Book in Relativity and Gravitation, Princeton University Press 8. Maggiore (2008) - Gravitational Waves: Theory and Experiments, Oxford University Press 9. Rybicki and Lightman (1979) - Radiative Processes in Astrophysics, Wiley-Interscience 10. Landau and Lifshitz (1975) - The Classical Theory, Pergamon Press 11. Misner et al. (1973) - Gravitation, Freeman 12. Lightman et al. (1997) - Phys. Rev. D **56**, 545 (gr-qc/9607068) 13. Seljak and Zaldarriaga (1997) - Phys. Rev. Lett. **78**, 2054 (astro-ph/9609169) 14. Goldberg et al. (1967) - Journal of Mathematical Physics **8**, 2155 15. Anholm et al. (2009) - Phys. Rev. D **79**, 084030 (gr-qc/08090701) 16. Book and Flanagan (2011) - Phys. Rev. D **83**, 024024 (astro-ph/10094192) 17. Jenet and Romano (2015) - Am. J. Phys. **83**, 635 (gr-qc/14121142) 18. Hellings and Downs (1983) - Astrophys. J. **265**, L39  These references cover various aspects of gravitational physics and astrophysics, including theoretical models, observational studies, and experimental results.\n",
      " This text appears to be a scientific research paper on the topic of nuclear physics, specifically focusing on the calculation of decay half-lives for alpha decays in atomic nuclei and the penetration of potential barriers. The authors have developed a new analytical formula based on the Wentzel-Kramers-Brillouin (WKB) approximation to calculate the barrier penetrability, taking into account the influence of the long-range Coulomb tail in the barrier potential.  The text includes a comparison of the results obtained using different approaches, including the parabolic approximation and the WKB approach, for various isotopes of Po (polonium). The authors have assumed the barrier potential to be spherical for most cases, and they have shown that their new formula gives very good results for these spherical nuclei.  The text also discusses the importance of evaluating the integral in the equation for the penetrability and provides an analytical expression for it. The computation was supported by the National Natural Science Foundation, the Major State Basic Research Development Program of China, the Knowledge Innovation Project of CAS, and Deutsche Forschungsgemeinschaft.  Overall, the text presents a new analytical formula for calculating barrier penetrability in nuclear physics, which could be useful for studying barrier penetrability where one has to introduce an energy-dependent one-dimensional potential barrier or a barrier distribution function.\n"
     ]
    }
   ],
   "source": [
    "summaries_list = []\n",
    "for i in summaries.split(separator):\n",
    "    summaries_list.append(i)\n",
    "print('Example of a bad example\\n:',summaries_list[1])\n",
    "print('Another example o summary\\n:',summaries_list[2])"
   ]
  },
  {
   "cell_type": "markdown",
   "metadata": {},
   "source": [
    "### Write summaries with other prompt"
   ]
  },
  {
   "cell_type": "code",
   "execution_count": 7,
   "metadata": {},
   "outputs": [],
   "source": [
    "def ask_for_summary(article):\n",
    "    instruction = \"Please summarize the following scientific paper to create a concise abstract. The summary should include the research objective, methods, key results, and conclusions. Ensure the summary is clear and follows the structure of a typical scientific abstract.\"\n",
    "    answer = llm.invoke(instruction + article)\n",
    "    answer = re.sub('\\n',' ',answer)\n",
    "    return answer\n"
   ]
  },
  {
   "cell_type": "code",
   "execution_count": 8,
   "metadata": {},
   "outputs": [],
   "source": [
    "def write_answers(num,filename):\n",
    "    summaries = []\n",
    "    for i in range(num):\n",
    "        summaries.append(ask_for_summary(texts[i]))\n",
    "        \n",
    "    summaries = separator.join(summaries)\n",
    "    with open('summaries/'+filename, 'w') as file:\n",
    "            file.write(summaries)\n",
    "    return summaries"
   ]
  },
  {
   "cell_type": "code",
   "execution_count": 9,
   "metadata": {},
   "outputs": [],
   "source": [
    "#summaries = write_answers(10,'write_summary_complex.txt')\n",
    "summaries = write_answers(100,'write_summary_complex100.txt')"
   ]
  },
  {
   "cell_type": "code",
   "execution_count": null,
   "metadata": {},
   "outputs": [],
   "source": []
  }
 ],
 "metadata": {
  "kernelspec": {
   "display_name": ".venv",
   "language": "python",
   "name": "python3"
  },
  "language_info": {
   "codemirror_mode": {
    "name": "ipython",
    "version": 3
   },
   "file_extension": ".py",
   "mimetype": "text/x-python",
   "name": "python",
   "nbconvert_exporter": "python",
   "pygments_lexer": "ipython3",
   "version": "3.10.12"
  }
 },
 "nbformat": 4,
 "nbformat_minor": 2
}
